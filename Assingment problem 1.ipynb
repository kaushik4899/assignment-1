{
 "cells": [
  {
   "cell_type": "code",
   "execution_count": 3,
   "id": "a4a86d46",
   "metadata": {},
   "outputs": [
    {
     "name": "stdout",
     "output_type": "stream",
     "text": [
      "1 1 2 3 5 8 13 21 34 "
     ]
    }
   ],
   "source": [
    "# Write a Python program to get Fibonacci Series between 0 to 50.\n",
    "num1=0\n",
    "num2=1\n",
    "while num2 < 50:\n",
    "    print(num2,end=\" \")\n",
    "    num1,num2=num2,num1+num2"
   ]
  },
  {
   "cell_type": "code",
   "execution_count": null,
   "id": "ad9513d4",
   "metadata": {},
   "outputs": [],
   "source": []
  }
 ],
 "metadata": {
  "kernelspec": {
   "display_name": "Python 3 (ipykernel)",
   "language": "python",
   "name": "python3"
  },
  "language_info": {
   "codemirror_mode": {
    "name": "ipython",
    "version": 3
   },
   "file_extension": ".py",
   "mimetype": "text/x-python",
   "name": "python",
   "nbconvert_exporter": "python",
   "pygments_lexer": "ipython3",
   "version": "3.9.12"
  }
 },
 "nbformat": 4,
 "nbformat_minor": 5
}
